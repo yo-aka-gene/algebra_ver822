{
 "cells": [
  {
   "cell_type": "markdown",
   "id": "3416bf94-fe4a-4ee3-a0ae-9230a106770c",
   "metadata": {
    "tags": []
   },
   "source": [
    "# GSE165388\n",
    "## 01-5_concat_gse165388_for_r\n",
    "---\n",
    "## Before you start\n",
    "- run `make init` cmd in your local env\n",
    "- complete run codes in `./01-3_preprocess_gse165388`\n",
    "\n",
    "## WorkFlow\n",
    "- export datasets as `.mtx` and `.tsv` format\n",
    " \n",
    " \n",
    " **Notes)**\n",
    " \n",
    " if kernel dies during running codes, you can ommit completed sections indexed if alphabets"
   ]
  },
  {
   "cell_type": "code",
   "execution_count": 1,
   "id": "9396f2aa-3260-4a79-8a46-c25a96c369e6",
   "metadata": {},
   "outputs": [],
   "source": [
    "import glob\n",
    "import os\n",
    "import shutil\n",
    "from typing import List, NamedTuple\n",
    "\n",
    "import numpy as np\n",
    "import pandas as pd\n",
    "import scipy.sparse as sp\n",
    "\n",
    "from tqdm.notebook import tqdm\n",
    "\n",
    "from tools.preprocess import fmt_tsv, fmt_mtx\n",
    "import tools.spongy_panda as spd"
   ]
  },
  {
   "cell_type": "code",
   "execution_count": 2,
   "id": "441b7698-8441-424d-b28a-4a09fdb520ce",
   "metadata": {},
   "outputs": [],
   "source": [
    "class Config(NamedTuple):\n",
    "    files: List[str] = glob.glob(\"../data/gse165388_processed/*\")\n",
    "    save_dir: str = \"../data/gse165388_processed/whole_raw\"\n",
    "    save_file: bool = False\n",
    "conf = Config(save_file=True)"
   ]
  },
  {
   "cell_type": "code",
   "execution_count": 3,
   "id": "76b173dc-f5db-4e50-a0bb-c17150660a3e",
   "metadata": {},
   "outputs": [],
   "source": [
    "os.makedirs(conf.save_dir, exist_ok=True)"
   ]
  },
  {
   "cell_type": "markdown",
   "id": "7b59bff8-fb85-40d8-b419-614c7a16ca2f",
   "metadata": {},
   "source": [
    "---\n",
    "## Make concatenation artifacts"
   ]
  },
  {
   "cell_type": "code",
   "execution_count": 4,
   "id": "a8747c4e-9161-4d2f-a27b-cc430354ec65",
   "metadata": {},
   "outputs": [],
   "source": [
    "mtx_files = [v for v in conf.files if \"raw.mtx\" in v]\n",
    "json_files = [v for v in conf.files if \"raw.json\" in v]"
   ]
  },
  {
   "cell_type": "code",
   "execution_count": 5,
   "id": "7c96fca1-2c25-4192-87e9-41ac8d75fe9c",
   "metadata": {},
   "outputs": [
    {
     "data": {
      "application/vnd.jupyter.widget-view+json": {
       "model_id": "04b861cc04f140f39355767bd9b566ad",
       "version_major": 2,
       "version_minor": 0
      },
      "text/plain": [
       "Exporting as 10x directories:   0%|          | 0/4 [00:00<?, ?it/s]"
      ]
     },
     "metadata": {},
     "output_type": "display_data"
    }
   ],
   "source": [
    "for mtx, jf, name in tqdm(\n",
    "    zip(mtx_files, json_files, [\"gw10\", \"gw11\", \"gw12\", \"gw9\"]),\n",
    "    desc = \"Exporting as 10x directories\",\n",
    "    total = len(mtx_files)\n",
    "):\n",
    "    spd.load_mtx(mtx, jf, from_r = True).to_mtx(f\"{conf.save_dir}/{name}\")"
   ]
  },
  {
   "cell_type": "markdown",
   "id": "5869a566-ebbe-43ee-aeaa-b7d1a4c60543",
   "metadata": {
    "tags": []
   },
   "source": [
    "---\n",
    "## Concatenate and export"
   ]
  },
  {
   "cell_type": "code",
   "execution_count": 6,
   "id": "b8388e88-f800-413c-9b5f-db6b6282271c",
   "metadata": {},
   "outputs": [],
   "source": [
    "conf = Config(\n",
    "    files=glob.glob(\"../data/gse165388_processed/whole_raw/gw*\"),\n",
    "    save_dir=\"../data/gse165388_processed/whole_raw\"\n",
    ")"
   ]
  },
  {
   "cell_type": "code",
   "execution_count": 7,
   "id": "8dc3e685-03e6-4540-b7d7-88927ff84bdc",
   "metadata": {},
   "outputs": [
    {
     "data": {
      "application/vnd.jupyter.widget-view+json": {
       "model_id": "8d7500b496dd4b6f9ad8ea3bd7861b60",
       "version_major": 2,
       "version_minor": 0
      },
      "text/plain": [
       "Concatenation:   0%|          | 0/4 [00:00<?, ?it/s]"
      ]
     },
     "metadata": {},
     "output_type": "display_data"
    },
    {
     "data": {
      "application/vnd.jupyter.widget-view+json": {
       "model_id": "3046d02b2d4d4238b4b093e2bb6a126c",
       "version_major": 2,
       "version_minor": 0
      },
      "text/plain": [
       "Adjusting format:   0%|          | 0/1 [00:00<?, ?it/s]"
      ]
     },
     "metadata": {},
     "output_type": "display_data"
    },
    {
     "data": {
      "application/vnd.jupyter.widget-view+json": {
       "model_id": "cd68338619f04b1b8b3fd7cfa6cc4d8a",
       "version_major": 2,
       "version_minor": 0
      },
      "text/plain": [
       "Exporting log:   0%|          | 0/1 [00:00<?, ?it/s]"
      ]
     },
     "metadata": {},
     "output_type": "display_data"
    }
   ],
   "source": [
    "fmt_mtx(conf.files, conf.save_dir, axis=0, fmt=\"%d\", mode=\"py2r\")"
   ]
  },
  {
   "cell_type": "markdown",
   "id": "1f5e3056-3414-4760-9322-7686cefb6508",
   "metadata": {},
   "source": [
    "### c) Concatenate barcodes.tsv and features.tsv"
   ]
  },
  {
   "cell_type": "code",
   "execution_count": 8,
   "id": "4147a019-4952-420b-a9d0-b0f0cb65b59e",
   "metadata": {},
   "outputs": [
    {
     "data": {
      "application/vnd.jupyter.widget-view+json": {
       "model_id": "0fa0dbf85e1d4913be5685571ca90648",
       "version_major": 2,
       "version_minor": 0
      },
      "text/plain": [
       "Concatenation:   0%|          | 0/4 [00:00<?, ?it/s]"
      ]
     },
     "metadata": {},
     "output_type": "display_data"
    },
    {
     "data": {
      "application/vnd.jupyter.widget-view+json": {
       "model_id": "02014c5db55c45f5bb706d8d27982ef2",
       "version_major": 2,
       "version_minor": 0
      },
      "text/plain": [
       "Exporting barcodes.tsv:   0%|          | 0/1 [00:00<?, ?it/s]"
      ]
     },
     "metadata": {},
     "output_type": "display_data"
    },
    {
     "data": {
      "application/vnd.jupyter.widget-view+json": {
       "model_id": "80438d744e154cb485a465b4cd37222a",
       "version_major": 2,
       "version_minor": 0
      },
      "text/plain": [
       "Exporting features.tsv:   0%|          | 0/1 [00:00<?, ?it/s]"
      ]
     },
     "metadata": {},
     "output_type": "display_data"
    }
   ],
   "source": [
    "for filenames, concat, alias in zip([\"barcodes\", \"features\"], [True, False], [None, None]):\n",
    "    fmt_tsv(conf.files, filenames, conf.save_dir, unique=False, concat=concat, alias=alias)"
   ]
  },
  {
   "cell_type": "markdown",
   "id": "32717b45-963e-420b-9a23-c1a5ef7d8860",
   "metadata": {
    "tags": []
   },
   "source": [
    "### d) Remove Artifacts"
   ]
  },
  {
   "cell_type": "code",
   "execution_count": 9,
   "id": "cfdb8f93-c3ec-44ec-ba54-fd4e45dd39f3",
   "metadata": {},
   "outputs": [],
   "source": [
    "for v in conf.files:\n",
    "    shutil.rmtree(v)"
   ]
  }
 ],
 "metadata": {
  "kernelspec": {
   "display_name": "Python 3 (ipykernel)",
   "language": "python",
   "name": "python3"
  },
  "language_info": {
   "codemirror_mode": {
    "name": "ipython",
    "version": 3
   },
   "file_extension": ".py",
   "mimetype": "text/x-python",
   "name": "python",
   "nbconvert_exporter": "python",
   "pygments_lexer": "ipython3",
   "version": "3.10.5"
  }
 },
 "nbformat": 4,
 "nbformat_minor": 5
}
