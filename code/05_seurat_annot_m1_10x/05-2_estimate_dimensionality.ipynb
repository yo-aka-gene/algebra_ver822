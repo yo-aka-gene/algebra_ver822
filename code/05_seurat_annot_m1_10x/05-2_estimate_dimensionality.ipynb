{
 "cells": [
  {
   "cell_type": "markdown",
   "id": "0d2fe744-ddb6-4bd4-b673-15054f3eeed9",
   "metadata": {
    "tags": []
   },
   "source": [
    "# Allen Institute\n",
    "## 05-2_estimate_dimensionality\n",
    "---\n",
    "### Before you start\n",
    "- run codes in `05-1_m1_10x_extract_variablefeat.Rmd`"
   ]
  },
  {
   "cell_type": "code",
   "execution_count": 1,
   "id": "fc283c02-6789-4e1f-a9c9-19ad7e79a133",
   "metadata": {
    "tags": []
   },
   "outputs": [],
   "source": [
    "import glob\n",
    "from itertools import product\n",
    "import json\n",
    "import os\n",
    "import random\n",
    "from typing import Dict, NamedTuple, List, Union\n",
    "\n",
    "import matplotlib.pyplot as plt\n",
    "import numpy as np\n",
    "import pandas as pd\n",
    "import scipy.io as si\n",
    "import scipy.sparse as sp\n",
    "from tqdm.notebook import tqdm\n",
    "\n",
    "from sklearn.decomposition import TruncatedSVD"
   ]
  },
  {
   "cell_type": "code",
   "execution_count": 2,
   "id": "dd845c99-beaf-4e69-bd7d-bbcbee3907a1",
   "metadata": {},
   "outputs": [],
   "source": [
    "class Config(NamedTuple):\n",
    "    mtx: List[str] = glob.glob(\"../../data/m1_10x_variablefeat/*.mtx\")\n",
    "    save_dir: str = \"../../out/m1_10x/05_seurat_annot\"\n",
    "    fig_kwarg: Dict[str, Union[str, int, float]] = {\n",
    "        'facecolor': 'white',\n",
    "        'dpi': 300,\n",
    "        'bbox_inches': 'tight',\n",
    "        'pad_inches': 0.05\n",
    "    }\n",
    "    save_file: bool = False"
   ]
  },
  {
   "cell_type": "code",
   "execution_count": 3,
   "id": "c01cc646-b49d-4fcf-a042-4511bfbef2a9",
   "metadata": {},
   "outputs": [],
   "source": [
    "conf = Config(save_file=True)"
   ]
  },
  {
   "cell_type": "code",
   "execution_count": 4,
   "id": "9068d74f-2eeb-4196-a976-a3bd780ac9dd",
   "metadata": {},
   "outputs": [],
   "source": [
    "os.makedirs(conf.save_dir, exist_ok=True)"
   ]
  },
  {
   "cell_type": "markdown",
   "id": "29527187-0a18-40a7-912c-091a144e81b6",
   "metadata": {},
   "source": [
    "---\n",
    "## Define funcs to use"
   ]
  },
  {
   "cell_type": "code",
   "execution_count": 5,
   "id": "36a4f1e9-89a2-4468-8b81-2624f1a9ffcf",
   "metadata": {},
   "outputs": [],
   "source": [
    "def random_perm(coo, random_state):\n",
    "    np.random.seed(random_state)\n",
    "    coord = random.sample(\n",
    "        list(\n",
    "            product(\n",
    "                np.arange(coo.shape[0]),\n",
    "                np.arange(coo.shape[1])\n",
    "            )\n",
    "        ),\n",
    "        len(coo.data)\n",
    "    )\n",
    "    \n",
    "    row = np.array([v[0] for v in coord])\n",
    "    col = np.array([v[1] for v in coord])\n",
    "    \n",
    "    np.random.seed(random_state)\n",
    "    data = np.random.permutation(coo.data)\n",
    "    \n",
    "    return sp.coo_matrix((data, (row, col)), shape=coo.shape)"
   ]
  },
  {
   "cell_type": "code",
   "execution_count": 6,
   "id": "69c4b52c-f05c-4a4e-98a2-e5f6f4a1a198",
   "metadata": {},
   "outputs": [],
   "source": [
    "def parallel(coo, random_state):\n",
    "    model1 = TruncatedSVD(n_components=coo.shape[0], random_state=random_state)\n",
    "    model2 = TruncatedSVD(n_components=coo.shape[0], random_state=random_state)\n",
    "    \n",
    "    model1.fit_transform(coo.T)\n",
    "    model2.fit_transform(random_perm(coo, random_state).T)\n",
    "    \n",
    "    return len(\n",
    "        model1.explained_variance_[\n",
    "            model1.explained_variance_ > model2.explained_variance_\n",
    "        ]\n",
    "    )"
   ]
  },
  {
   "cell_type": "code",
   "execution_count": 7,
   "id": "6c2b8398-a7ea-476f-8ee4-7108d214e8b4",
   "metadata": {},
   "outputs": [],
   "source": [
    "def plot_parallel(coo, random_state, ax):\n",
    "    model1 = TruncatedSVD(n_components=coo.shape[0], random_state=random_state)\n",
    "    model2 = TruncatedSVD(n_components=coo.shape[0], random_state=random_state)\n",
    "    \n",
    "    model1.fit_transform(coo.T)\n",
    "    model2.fit_transform(random_perm(coo, random_state).T)\n",
    "    \n",
    "    dim = len(\n",
    "        model1.explained_variance_[\n",
    "            model1.explained_variance_ > model2.explained_variance_\n",
    "        ]\n",
    "    )\n",
    "\n",
    "    ax.plot(model1.explained_variance_[:dim], c=\"r\", linewidth=1)\n",
    "    ax.plot(np.arange(dim, coo.shape[0]), model1.explained_variance_[dim:], c=\".8\", linewidth=1)\n",
    "    ax.plot(model2.explained_variance_[dim:], c=\"k\", linewidth=1, label=\"random permutation\")\n",
    "    \n",
    "    ax.set(xlabel=\"Num. of components\", ylabel=\"Variance\", title=f\"Parallel Analysis ({dim} components)\")\n",
    "    ax.legend()"
   ]
  },
  {
   "cell_type": "markdown",
   "id": "b3ec4324-84a3-41f8-8efc-73e3f49e3684",
   "metadata": {},
   "source": [
    "---\n",
    "## Estimate Dimensionality of the Data"
   ]
  },
  {
   "cell_type": "code",
   "execution_count": 8,
   "id": "5084e360-ae8e-4d0c-a112-76073986318e",
   "metadata": {},
   "outputs": [
    {
     "data": {
      "text/plain": [
       "['../../data/m1_10x_variablefeat/m1_10xfeat_matrix.mtx']"
      ]
     },
     "execution_count": 8,
     "metadata": {},
     "output_type": "execute_result"
    }
   ],
   "source": [
    "conf.mtx"
   ]
  },
  {
   "cell_type": "code",
   "execution_count": 9,
   "id": "19e893a4-0eeb-4298-bea8-ea61ee7a76d0",
   "metadata": {},
   "outputs": [
    {
     "data": {
      "text/plain": [
       "['m1_10x']"
      ]
     },
     "execution_count": 9,
     "metadata": {},
     "output_type": "execute_result"
    }
   ],
   "source": [
    "name = [v.split(\"/\")[-1].split(\"feat\")[0] for v in conf.mtx]\n",
    "name"
   ]
  },
  {
   "cell_type": "code",
   "execution_count": 10,
   "id": "7cf8eaf7-1864-4ed9-a957-526fd873f5bf",
   "metadata": {},
   "outputs": [],
   "source": [
    "l_data = [si.mmread(v) for v in conf.mtx]"
   ]
  },
  {
   "cell_type": "code",
   "execution_count": 11,
   "id": "30a8fb8c-48d9-4548-a212-46ec16c25833",
   "metadata": {},
   "outputs": [
    {
     "data": {
      "application/vnd.jupyter.widget-view+json": {
       "model_id": "9e81ac827fd844bfa6115e9d8046da5d",
       "version_major": 2,
       "version_minor": 0
      },
      "text/plain": [
       "Plot Prallel Analysis:   0%|          | 0/1 [00:00<?, ?it/s]"
      ]
     },
     "metadata": {},
     "output_type": "display_data"
    },
    {
     "data": {
      "image/png": "[encoded data removed]",
      "text/plain": [
       "<Figure size 300x300 with 1 Axes>"
      ]
     },
     "metadata": {},
     "output_type": "display_data"
    }
   ],
   "source": [
    "for (i, v), data_id in tqdm(zip(enumerate(l_data), name), desc=\"Plot Prallel Analysis\", total=len(name)):\n",
    "    fig, ax = plt.subplots(figsize=(3, 3))\n",
    "    \n",
    "    plot_parallel(v, random_state=0, ax=ax)\n",
    "    \n",
    "    if conf.save_file:\n",
    "        plt.savefig(f\"{conf.save_dir}/{data_id}_pa.png\", **conf.fig_kwarg)"
   ]
  },
  {
   "cell_type": "markdown",
   "id": "b8a572eb-2a1a-4473-a116-58129e258bda",
   "metadata": {},
   "source": [
    "### Export as json"
   ]
  },
  {
   "cell_type": "code",
   "execution_count": 12,
   "id": "7a886f87-a4cc-46dd-b228-1ba97b41cb04",
   "metadata": {},
   "outputs": [],
   "source": [
    "dims = {\n",
    "    data_id: parallel(data, random_state=0) for data, data_id in zip(l_data, name)\n",
    "}"
   ]
  },
  {
   "cell_type": "code",
   "execution_count": 13,
   "id": "54560808-d0f3-4789-aafb-e9ca3704bd55",
   "metadata": {},
   "outputs": [],
   "source": [
    "with open(f\"{conf.save_dir}/dimensionality.json\", \"w\") as f:\n",
    "    json.dump(dims, f)"
   ]
  },
  {
   "cell_type": "code",
   "execution_count": 15,
   "id": "a9f78e12-8cbb-4b39-b915-35407029a772",
   "metadata": {},
   "outputs": [
    {
     "data": {
      "text/plain": [
       "{'m1_10x': 51}"
      ]
     },
     "execution_count": 15,
     "metadata": {},
     "output_type": "execute_result"
    }
   ],
   "source": [
    "dims"
   ]
  }
 ],
 "metadata": {
  "kernelspec": {
   "display_name": "Python 3 (ipykernel)",
   "language": "python",
   "name": "python3"
  },
  "language_info": {
   "codemirror_mode": {
    "name": "ipython",
    "version": 3
   },
   "file_extension": ".py",
   "mimetype": "text/x-python",
   "name": "python",
   "nbconvert_exporter": "python",
   "pygments_lexer": "ipython3",
   "version": "3.10.5"
  }
 },
 "nbformat": 4,
 "nbformat_minor": 5
}
