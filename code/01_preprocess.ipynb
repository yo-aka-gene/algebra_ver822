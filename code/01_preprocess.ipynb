{
 "cells": [
  {
   "cell_type": "markdown",
   "id": "74cd29e7-e199-4409-a097-9ca12c62a598",
   "metadata": {},
   "source": [
    "# Allen Institute\n",
    "## 01_preprocess\n",
    "---\n",
    "## Before you start\n",
    "- run `make init` cmd in your local env"
   ]
  },
  {
   "cell_type": "code",
   "execution_count": 3,
   "id": "06d5443c-fe91-4269-b0e2-0c03c56b75fd",
   "metadata": {},
   "outputs": [],
   "source": [
    "import glob\n",
    "import json\n",
    "import os\n",
    "from typing import List, NamedTuple\n",
    "\n",
    "import numpy as np\n",
    "import pandas as pd\n",
    "import scipy.sparse as sp\n",
    "\n",
    "\n",
    "# from tools.preprocess import fmt_rpm, fmt_table, find"
   ]
  },
  {
   "cell_type": "code",
   "execution_count": 394,
   "id": "72a6a539-6eb6-4746-a86b-4e91257a1d22",
   "metadata": {},
   "outputs": [],
   "source": [
    "import pickle\n",
    "\n",
    "import numpy as np\n",
    "import pandas as pd\n",
    "import scipy.sparse as sp\n",
    "\n",
    "\n",
    "class SparseDF():\n",
    "    def __init__(\n",
    "        self,\n",
    "        df: pd.core.frame.DataFrame\n",
    "    ):\n",
    "        self.values = df.values\n",
    "        self.index = df.index\n",
    "        self.columns = df.columns\n",
    "        self.shape = self.values.shape\n",
    "        \n",
    "    def __call__(self):\n",
    "        return sp.csc_matrix(self.values)\n",
    "    \n",
    "    def __len__(self):\n",
    "        return self.values.__len__()\n",
    "    \n",
    "    def __add__(self, other):\n",
    "        return SparseDF(\n",
    "            pd.DataFrame(\n",
    "                self.values.__add__(other), \n",
    "                index=self.index,\n",
    "                columns=self.columns\n",
    "            )\n",
    "        )\n",
    "    \n",
    "    def __sub__(self, other):\n",
    "        return SparseDF(\n",
    "            pd.DataFrame(\n",
    "                self.values.__sub__(other), \n",
    "                index=self.index,\n",
    "                columns=self.columns\n",
    "            )\n",
    "        )\n",
    "    \n",
    "    def __mul__(self, other):\n",
    "        return SparseDF(\n",
    "            pd.DataFrame(\n",
    "                self.values.__mul__(other), \n",
    "                index=self.index,\n",
    "                columns=self.columns\n",
    "            )\n",
    "        )\n",
    "    \n",
    "    def __matmul__(self, other):\n",
    "        return SparseDF(\n",
    "            pd.DataFrame(\n",
    "                self.values.__matmul__(other), \n",
    "                index=self.index,\n",
    "                columns=self.columns\n",
    "            )\n",
    "        )\n",
    "    \n",
    "    def __pow__(self, other):\n",
    "        return SparseDF(\n",
    "            pd.DataFrame(\n",
    "                self.values.__pow__(other), \n",
    "                index=self.index,\n",
    "                columns=self.columns\n",
    "            )\n",
    "        )\n",
    "    \n",
    "    def __truediv__(self, other):\n",
    "        return SparseDF(\n",
    "            pd.DataFrame(\n",
    "                self.values.__truediv__(other), \n",
    "                index=self.index,\n",
    "                columns=self.columns\n",
    "            )\n",
    "        )\n",
    "    \n",
    "    def __floordiv__(self, other):\n",
    "        return SparseDF(\n",
    "            pd.DataFrame(\n",
    "                self.values.__floordiv__(other), \n",
    "                index=self.index,\n",
    "                columns=self.columns\n",
    "            )\n",
    "        )\n",
    "    \n",
    "    def __mod__(self, other):\n",
    "        return SparseDF(\n",
    "            pd.DataFrame(\n",
    "                self.values.__mod__(other), \n",
    "                index=self.index,\n",
    "                columns=self.columns\n",
    "            )\n",
    "        )\n",
    "    \n",
    "    def __pos__(self):\n",
    "        return SparseDF(\n",
    "            pd.DataFrame(\n",
    "                self.values.__pos__(), \n",
    "                index=self.index,\n",
    "                columns=self.columns\n",
    "            )\n",
    "        )\n",
    "    \n",
    "    def __neg__(self):\n",
    "        return SparseDF(\n",
    "            pd.DataFrame(\n",
    "                self.values.__neg__(), \n",
    "                index=self.index,\n",
    "                columns=self.columns\n",
    "            )\n",
    "        )\n",
    "    \n",
    "    def __eq__(self, other):\n",
    "        return SparseDF(\n",
    "            pd.DataFrame(\n",
    "                self.values.__eq__(other), \n",
    "                index=self.index,\n",
    "                columns=self.columns\n",
    "            )\n",
    "        )\n",
    "    \n",
    "    def __lt__(self, other):\n",
    "        return SparseDF(\n",
    "            pd.DataFrame(\n",
    "                self.values.__lt__(other), \n",
    "                index=self.index,\n",
    "                columns=self.columns\n",
    "            )\n",
    "        )\n",
    "    \n",
    "    def __le__(self, other):\n",
    "        return SparseDF(\n",
    "            pd.DataFrame(\n",
    "                self.values.__le__(other), \n",
    "                index=self.index,\n",
    "                columns=self.columns\n",
    "            )\n",
    "        )\n",
    "    \n",
    "    def __ne__(self, other):\n",
    "        return SparseDF(\n",
    "            pd.DataFrame(\n",
    "                self.values.__ne__(other), \n",
    "                index=self.index,\n",
    "                columns=self.columns\n",
    "            )\n",
    "        )\n",
    "    \n",
    "    def __ge__(self, other):\n",
    "        return SparseDF(\n",
    "            pd.DataFrame(\n",
    "                self.values.__ge__(other), \n",
    "                index=self.index,\n",
    "                columns=self.columns\n",
    "            )\n",
    "        )\n",
    "    \n",
    "    def __gt__(self, other):\n",
    "        return SparseDF(\n",
    "            pd.DataFrame(\n",
    "                self.values.__gt__(other), \n",
    "                index=self.index,\n",
    "                columns=self.columns\n",
    "            )\n",
    "        )\n",
    "    \n",
    "    def __cmp__(self, other):\n",
    "        return SparseDF(\n",
    "            pd.DataFrame(\n",
    "                self.values.__cmp__(other), \n",
    "                index=self.index,\n",
    "                columns=self.columns\n",
    "            )\n",
    "        )\n",
    "    \n",
    "    def __contains__(self, other):\n",
    "        return self.values.__contains__(other)\n",
    "    \n",
    "    def to_df(self):\n",
    "        return pd.DataFrame(\n",
    "            self.values,\n",
    "            index=self.index,\n",
    "            columns=self.columns\n",
    "        )\n",
    "    \n",
    "    def __getitem__(self, item):\n",
    "        return self.to_df()[item] if isinstance(item, str) else self.values[item]\n",
    "    \n",
    "    def to_pickle(self, filename: str):\n",
    "        with open(filename, \"wb\") as f:\n",
    "            pickle.dump(self, f)\n",
    "    \n",
    "    def save_npz(self, filename):\n",
    "        sp.save_npz(filename, self())\n",
    "    \n",
    "    def to_csv(self, filename, index: bool = True):\n",
    "        self.to_df().to_csv(filename, index=index)\n",
    "        \n",
    "    def colidx2json(self, filename):\n",
    "        with open(filename, \"w\") as f:\n",
    "            d = dict(\n",
    "                index=self.index.to_list(),\n",
    "                columns=self.columns.to_list()\n",
    "            )\n",
    "            json.dump(d, f)"
   ]
  },
  {
   "cell_type": "code",
   "execution_count": 395,
   "id": "9283e8ad-01be-4c72-b4ab-e3a8538a87b8",
   "metadata": {},
   "outputs": [],
   "source": [
    "temp = pd.DataFrame(\n",
    "    np.random.randn(10, 10).reshape(10, 10),\n",
    "    index=[f\"idx{i}\" for i in range(10)],\n",
    "    columns=[f\"col{i}\" for i in range(10)]\n",
    ")"
   ]
  },
  {
   "cell_type": "code",
   "execution_count": 396,
   "id": "9ec7c2ea-c9c6-4d73-b0e7-bf50f68e4916",
   "metadata": {},
   "outputs": [
    {
     "data": {
      "text/plain": [
       "1410"
      ]
     },
     "execution_count": 396,
     "metadata": {},
     "output_type": "execute_result"
    }
   ],
   "source": [
    "temp.__sizeof__()"
   ]
  },
  {
   "cell_type": "code",
   "execution_count": 397,
   "id": "1ef693d3-fb1e-45d2-8bb4-d4057da3a413",
   "metadata": {},
   "outputs": [],
   "source": [
    "hoge = SparseDF(temp)"
   ]
  },
  {
   "cell_type": "code",
   "execution_count": 398,
   "id": "db9d4d50-683d-4128-b09c-0b1407c6b57f",
   "metadata": {},
   "outputs": [
    {
     "data": {
      "text/plain": [
       "32"
      ]
     },
     "execution_count": 398,
     "metadata": {},
     "output_type": "execute_result"
    }
   ],
   "source": [
    "hoge.__sizeof__()"
   ]
  },
  {
   "cell_type": "code",
   "execution_count": 399,
   "id": "4cb75d45-6d03-46ba-bd2e-1f5c01393c1b",
   "metadata": {},
   "outputs": [],
   "source": [
    "moge = np.arange(10)[:-1] = 22"
   ]
  },
  {
   "cell_type": "code",
   "execution_count": 400,
   "id": "ee8ed495-4ba4-4dac-8e24-63e65a093918",
   "metadata": {},
   "outputs": [
    {
     "data": {
      "text/plain": [
       "22"
      ]
     },
     "execution_count": 400,
     "metadata": {},
     "output_type": "execute_result"
    }
   ],
   "source": [
    "moge"
   ]
  },
  {
   "cell_type": "code",
   "execution_count": 401,
   "id": "3ccef656-e1a6-4b35-bad3-c203a019538e",
   "metadata": {},
   "outputs": [
    {
     "ename": "AttributeError",
     "evalue": "'numpy.ndarray' object has no attribute 'attrgetter'",
     "output_type": "error",
     "traceback": [
      "\u001b[0;31m---------------------------------------------------------------------------\u001b[0m",
      "\u001b[0;31mAttributeError\u001b[0m                            Traceback (most recent call last)",
      "Input \u001b[0;32mIn [401]\u001b[0m, in \u001b[0;36m<cell line: 1>\u001b[0;34m()\u001b[0m\n\u001b[0;32m----> 1\u001b[0m \u001b[43mnp\u001b[49m\u001b[38;5;241;43m.\u001b[39;49m\u001b[43marange\u001b[49m\u001b[43m(\u001b[49m\u001b[38;5;241;43m4\u001b[39;49m\u001b[43m,\u001b[49m\u001b[43m \u001b[49m\u001b[38;5;241;43m100\u001b[39;49m\u001b[43m)\u001b[49m\u001b[38;5;241;43m.\u001b[39;49m\u001b[43mattrgetter\u001b[49m()\n",
      "\u001b[0;31mAttributeError\u001b[0m: 'numpy.ndarray' object has no attribute 'attrgetter'"
     ]
    }
   ],
   "source": [
    "np.arange(4, 100).attrgetter()"
   ]
  },
  {
   "cell_type": "code",
   "execution_count": 402,
   "id": "83782c50-7706-4daf-a366-c5c4cf9abc2f",
   "metadata": {},
   "outputs": [
    {
     "data": {
      "text/plain": [
       "False"
      ]
     },
     "execution_count": 402,
     "metadata": {},
     "output_type": "execute_result"
    }
   ],
   "source": [
    "np.inf in np.arange(10).reshape(2, 5)"
   ]
  },
  {
   "cell_type": "code",
   "execution_count": 403,
   "id": "82e3f301-24dd-4392-8dc0-2491ba95b808",
   "metadata": {},
   "outputs": [
    {
     "data": {
      "text/plain": [
       "-32"
      ]
     },
     "execution_count": 403,
     "metadata": {},
     "output_type": "execute_result"
    }
   ],
   "source": [
    "-(hoge / 3).__sizeof__()"
   ]
  },
  {
   "cell_type": "code",
   "execution_count": 404,
   "id": "a52b0e0e-168a-4cf9-b9c6-11a3884bf94f",
   "metadata": {},
   "outputs": [
    {
     "data": {
      "text/plain": [
       "array([0.        , 0.33333333, 0.66666667, 1.        , 1.33333333,\n",
       "       1.66666667, 2.        , 2.33333333, 2.66666667, 3.        ])"
      ]
     },
     "execution_count": 404,
     "metadata": {},
     "output_type": "execute_result"
    }
   ],
   "source": [
    "np.arange(10) / 3"
   ]
  },
  {
   "cell_type": "code",
   "execution_count": 405,
   "id": "e56909e0-eb47-46c4-a339-3d8f8d30a70b",
   "metadata": {},
   "outputs": [],
   "source": [
    "with open(\"./temp.json\", \"w\") as f:\n",
    "    d = dict(index=hoge.index.to_list(), columns=hoge.columns.to_list())\n",
    "    \n",
    "    json.dump(d, f)"
   ]
  },
  {
   "cell_type": "code",
   "execution_count": 406,
   "id": "4c6c1c2e-6f6a-40a4-b779-191117541d50",
   "metadata": {},
   "outputs": [],
   "source": [
    "hoge.to_pickle(\"./temp.pkl\")"
   ]
  },
  {
   "cell_type": "code",
   "execution_count": 407,
   "id": "d4739638-d38a-4c20-b66a-5974e630b0b9",
   "metadata": {},
   "outputs": [],
   "source": [
    "hoge.save_npz(\"./temp.npz\")"
   ]
  },
  {
   "cell_type": "code",
   "execution_count": 408,
   "id": "8e0cd062-c6d7-41f2-b095-f02e5aac1b3c",
   "metadata": {},
   "outputs": [],
   "source": [
    "hoge.to_csv(\"./temp.csv\")"
   ]
  },
  {
   "cell_type": "code",
   "execution_count": 409,
   "id": "4e6a2698-050e-4f27-9a88-13c91fc25f8d",
   "metadata": {},
   "outputs": [],
   "source": [
    "hoge.colidx2json(\"./temp.json\")"
   ]
  },
  {
   "cell_type": "code",
   "execution_count": 413,
   "id": "2badfd86-b80b-46fe-b472-8cb601475200",
   "metadata": {},
   "outputs": [
    {
     "data": {
      "text/plain": [
       "pandas.core.indexes.base.Index"
      ]
     },
     "execution_count": 413,
     "metadata": {},
     "output_type": "execute_result"
    }
   ],
   "source": [
    "type(hoge.to_df().columns)"
   ]
  },
  {
   "cell_type": "code",
   "execution_count": 412,
   "id": "1245a336-06fc-4c3a-9773-90fccdfc91d3",
   "metadata": {},
   "outputs": [
    {
     "data": {
      "text/plain": [
       "pandas.core.indexes.base.Index"
      ]
     },
     "execution_count": 412,
     "metadata": {},
     "output_type": "execute_result"
    }
   ],
   "source": [
    "pd.core.indexes.base.Index"
   ]
  },
  {
   "cell_type": "code",
   "execution_count": 414,
   "id": "5dcdc053-cdf3-4315-87f8-b5fcaff05ca3",
   "metadata": {},
   "outputs": [
    {
     "data": {
      "text/plain": [
       "scipy.sparse._csc.csc_matrix"
      ]
     },
     "execution_count": 414,
     "metadata": {},
     "output_type": "execute_result"
    }
   ],
   "source": [
    "type(hoge())"
   ]
  },
  {
   "cell_type": "code",
   "execution_count": 415,
   "id": "a245ef40-6940-4fdb-ba53-40d4a17d462c",
   "metadata": {},
   "outputs": [
    {
     "data": {
      "text/plain": [
       "scipy.sparse._csc.csc_matrix"
      ]
     },
     "execution_count": 415,
     "metadata": {},
     "output_type": "execute_result"
    }
   ],
   "source": [
    "sp._csc.csc_matrix"
   ]
  },
  {
   "cell_type": "code",
   "execution_count": 417,
   "id": "16f234fe-4360-47c8-946f-9a0ad98e3c96",
   "metadata": {},
   "outputs": [
    {
     "data": {
      "text/plain": [
       "0"
      ]
     },
     "execution_count": 417,
     "metadata": {},
     "output_type": "execute_result"
    }
   ],
   "source": [
    "[\"a\", \"b\"].index(\"a\")"
   ]
  },
  {
   "cell_type": "code",
   "execution_count": 420,
   "id": "3c12d7fb-2fa5-49ca-991e-d68a92ec14d0",
   "metadata": {},
   "outputs": [
    {
     "data": {
      "text/plain": [
       "2"
      ]
     },
     "execution_count": 420,
     "metadata": {},
     "output_type": "execute_result"
    }
   ],
   "source": [
    "hoge.to_df().columns.to_list().index(\"col2\")"
   ]
  },
  {
   "cell_type": "code",
   "execution_count": null,
   "id": "37c66ee7-5c48-4858-b81e-5bf1045b0a30",
   "metadata": {},
   "outputs": [],
   "source": []
  }
 ],
 "metadata": {
  "kernelspec": {
   "display_name": "Python 3 (ipykernel)",
   "language": "python",
   "name": "python3"
  },
  "language_info": {
   "codemirror_mode": {
    "name": "ipython",
    "version": 3
   },
   "file_extension": ".py",
   "mimetype": "text/x-python",
   "name": "python",
   "nbconvert_exporter": "python",
   "pygments_lexer": "ipython3",
   "version": "3.10.5"
  }
 },
 "nbformat": 4,
 "nbformat_minor": 5
}
