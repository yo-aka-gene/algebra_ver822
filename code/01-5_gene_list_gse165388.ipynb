{
 "cells": [
  {
   "cell_type": "markdown",
   "id": "38154cc0-8292-4b6d-8479-29352c837a95",
   "metadata": {},
   "source": [
    "# GSE165388\n",
    "## 01-5_gene_list_gse165388\n",
    "---\n",
    "## Before you start\n",
    "- run `make init` cmd in your local env\n",
    "- run all codes in `01-4_preprocess_gse165388`\n",
    "\n",
    "## WorkFlow\n",
    "- export lists of genes as `.json` format\n",
    " \n",
    " \n",
    " **Notes)**\n",
    " \n",
    " if kernel dies during running codes, you can ommit completed sections indexed if alphabets"
   ]
  },
  {
   "cell_type": "code",
   "execution_count": 20,
   "id": "6746a4fa-fcdb-4f5f-b6e5-cc42a18523f7",
   "metadata": {},
   "outputs": [],
   "source": [
    "import glob\n",
    "import json\n",
    "\n",
    "import numpy as np\n",
    "\n",
    "from tools.r import read_json"
   ]
  },
  {
   "cell_type": "code",
   "execution_count": 2,
   "id": "e517ba58-573f-44e7-98ec-98a53371bcb7",
   "metadata": {},
   "outputs": [],
   "source": [
    "files = glob.glob(\"../data/gse165388_processed/*log.json\")"
   ]
  },
  {
   "cell_type": "code",
   "execution_count": 16,
   "id": "5239adda-6b31-4c99-a48a-e917f1147a98",
   "metadata": {},
   "outputs": [],
   "source": [
    "with open(\"../data/gene_list.json\", mode=\"r\") as f:\n",
    "        dicts = json.load(f)\n",
    "\n",
    "for v in files:\n",
    "    dicts = {\n",
    "        **dicts,\n",
    "        **{v.split(\"/\")[-1].split(\"_\")[0]:read_json(v, from_r=True)[\"index\"]}\n",
    "    }\n",
    "\n",
    "with open(\"../data/gene_list.json\", \"w\") as f:\n",
    "    json.dump(dicts, f)"
   ]
  },
  {
   "cell_type": "markdown",
   "id": "95a3e76f-5007-4b68-bbc3-f8ac903343ec",
   "metadata": {},
   "source": [
    "---\n",
    "## Intersection"
   ]
  },
  {
   "cell_type": "code",
   "execution_count": 27,
   "id": "f9701602-5366-4684-b619-7f509d46f91f",
   "metadata": {},
   "outputs": [],
   "source": [
    "with open(\"../data/gene_list.json\", \"r\") as f:\n",
    "        genes = json.load(f)"
   ]
  },
  {
   "cell_type": "code",
   "execution_count": 29,
   "id": "7cb602e4-124d-4b0f-8696-8bb293b7b5c9",
   "metadata": {},
   "outputs": [
    {
     "data": {
      "text/plain": [
       "dict_keys(['m1_10x', 'gw10', 'gw11', 'gw12', 'gw9'])"
      ]
     },
     "execution_count": 29,
     "metadata": {},
     "output_type": "execute_result"
    }
   ],
   "source": [
    "genes.keys()"
   ]
  },
  {
   "cell_type": "code",
   "execution_count": 33,
   "id": "fd0b3cdf-fdb3-4dbb-b1a7-de883f5e6e48",
   "metadata": {},
   "outputs": [],
   "source": [
    "genes = {gw: genes[gw] for gw in genes if \"gw\" in gw}"
   ]
  },
  {
   "cell_type": "code",
   "execution_count": 42,
   "id": "21475002-765c-4000-8471-b21d3a8287ad",
   "metadata": {},
   "outputs": [],
   "source": [
    "for i, v in enumerate(genes):\n",
    "    if i == 0:\n",
    "        intersection = np.array(genes[v])\n",
    "    \n",
    "    intersection = np.intersect1d(intersection, np.array(genes[v]))"
   ]
  },
  {
   "cell_type": "markdown",
   "id": "7570577e-344a-4dad-90ba-289197ac7e53",
   "metadata": {},
   "source": [
    "### export intersection"
   ]
  },
  {
   "cell_type": "code",
   "execution_count": 45,
   "id": "b42097fb-d99b-48e3-b2b5-4ce244d78d5c",
   "metadata": {},
   "outputs": [],
   "source": [
    "with open(\"../data/gene_list.json\", mode=\"r\") as f:\n",
    "        dicts = json.load(f)\n",
    "\n",
    "dicts = {**dicts, **{\"gse165388\": intersection.tolist()}}\n",
    "\n",
    "with open(\"../data/gene_list.json\", \"w\") as f:\n",
    "    json.dump(dicts, f)"
   ]
  }
 ],
 "metadata": {
  "kernelspec": {
   "display_name": "Python 3 (ipykernel)",
   "language": "python",
   "name": "python3"
  },
  "language_info": {
   "codemirror_mode": {
    "name": "ipython",
    "version": 3
   },
   "file_extension": ".py",
   "mimetype": "text/x-python",
   "name": "python",
   "nbconvert_exporter": "python",
   "pygments_lexer": "ipython3",
   "version": "3.10.5"
  }
 },
 "nbformat": 4,
 "nbformat_minor": 5
}
