{
 "cells": [
  {
   "cell_type": "markdown",
   "id": "74cd29e7-e199-4409-a097-9ca12c62a598",
   "metadata": {
    "tags": []
   },
   "source": [
    "# Allen Institute\n",
    "## 01_preprocess\n",
    "---\n",
    "## Before you start\n",
    "- run `make init` cmd in your local env\n",
    "\n",
    "## WorkFlow\n",
    "- make configuration\n",
    "    - a) Normalization\n",
    "    - b) Formation of datasets for ML\n",
    "        - Undersampling\n",
    "        - Data splitting\n",
    "        - Visualization\n",
    "        - Format matrix for GBDT\n",
    "        - c) export\n",
    "    - d) Formation of a dataset for visualization\n",
    "        - feature extraction\n",
    "        - Format matrix for visualization\n",
    " \n",
    " \n",
    " **Notes)**\n",
    " \n",
    " if kernel dies during running codes, you can ommit completed sections indexed if alphabets"
   ]
  },
  {
   "cell_type": "code",
   "execution_count": 12,
   "id": "06d5443c-fe91-4269-b0e2-0c03c56b75fd",
   "metadata": {
    "tags": []
   },
   "outputs": [],
   "source": [
    "import glob\n",
    "import json\n",
    "import os\n",
    "import random\n",
    "from typing import Dict, List, NamedTuple, Union\n",
    "\n",
    "import matplotlib.pyplot as plt\n",
    "import numpy as np\n",
    "import pandas as pd\n",
    "import scipy.sparse as sp\n",
    "import seaborn as sns\n",
    "\n",
    "from imblearn.under_sampling import RandomUnderSampler\n",
    "from sklearn.cluster import KMeans\n",
    "from sklearn.decomposition import PCA\n",
    "from sklearn.model_selection import GroupShuffleSplit\n",
    "from tqdm.notebook import tqdm\n",
    "\n",
    "from tools.figure import countplot, cns_subtype_markers, fig_kwarg\n",
    "from tools.preprocess import fmt_rpm,fmt_table, find\n",
    "import tools.spongy_panda as spd"
   ]
  },
  {
   "cell_type": "code",
   "execution_count": 22,
   "id": "216a6c26-2512-444c-96b2-59b2ae0d6310",
   "metadata": {},
   "outputs": [],
   "source": [
    "class Config(NamedTuple):\n",
    "    files: List[str] = glob.glob(\"../data/m1_10x/matrix*\")[1:]\n",
    "    data_dir: str = \"../data/m1_10x_rpm\"\n",
    "    save_dir: str = \"../out/m1_10x/01_preprocess\"\n",
    "    fig_kwarg: Dict[str, Union[str, int, float]] = fig_kwarg\n",
    "    save_file: bool = False\n",
    "conf = Config(save_file=True)"
   ]
  },
  {
   "cell_type": "code",
   "execution_count": 3,
   "id": "6802824a-36ab-4446-a0bf-6385b7ec87d3",
   "metadata": {},
   "outputs": [],
   "source": [
    "os.makedirs(conf.data_dir, exist_ok=True)\n",
    "os.makedirs(conf.save_dir, exist_ok=True)"
   ]
  },
  {
   "cell_type": "markdown",
   "id": "12fd74a8-9637-4d18-abbc-63bfd3babb4f",
   "metadata": {},
   "source": [
    "---\n",
    "## a) Normalization\n",
    "## $Counts\\rightarrow \\log_2(RPM+1)$\n",
    "- 1. make `../datam1_10x_rpm` to save file/files\n",
    "- 2. export"
   ]
  },
  {
   "cell_type": "code",
   "execution_count": null,
   "id": "b180881b-9944-40b4-a4e2-478eaade57f3",
   "metadata": {},
   "outputs": [],
   "source": [
    "fmt_rpm(conf.files, conf.data_dir, log2=True)"
   ]
  },
  {
   "cell_type": "markdown",
   "id": "96cd4ebf-f976-4352-9051-259f4f486cbe",
   "metadata": {},
   "source": [
    "- as there are no mitochondrial genes in this dataset, QC will be omitted"
   ]
  },
  {
   "cell_type": "markdown",
   "id": "77acdab8-0ddc-43b3-9988-f153bbe7ff23",
   "metadata": {
    "tags": []
   },
   "source": [
    "---\n",
    "## Format matrix for GBDT (referential data)\n",
    "## $\\log_2(RPM+1)\\rightarrow \\log_2(RPM+1)$\n",
    "- 1. set configuration\n",
    "- 2. make `../datam1_10x_processed` to save files\n",
    "- 3. get submatrix\n",
    "- 4. split data\n",
    "- 5. export training/test data"
   ]
  },
  {
   "cell_type": "code",
   "execution_count": 9,
   "id": "37e8979b-73b0-4661-95b0-941310b3465b",
   "metadata": {},
   "outputs": [],
   "source": [
    "conf = Config(\n",
    "    files=glob.glob(\"../data/m1_10x_rpm/*\"),\n",
    "    save_dir=\"../data/m1_10x_ml\"\n",
    ")"
   ]
  },
  {
   "cell_type": "code",
   "execution_count": 10,
   "id": "c4fd52e2-6126-40f4-8a82-f6fca92b6ff4",
   "metadata": {},
   "outputs": [],
   "source": [
    "os.makedirs(conf.save_dir, exist_ok=True)"
   ]
  },
  {
   "cell_type": "code",
   "execution_count": 11,
   "id": "9fac5d16-6710-410c-a031-0c59f4e4992f",
   "metadata": {},
   "outputs": [
    {
     "data": {
      "application/vnd.jupyter.widget-view+json": {
       "model_id": "11730f13a93841d8a3da7a7fcfc45422",
       "version_major": 2,
       "version_minor": 0
      },
      "text/plain": [
       "extraction:   0%|          | 0/39 [00:00<?, ?it/s]"
      ]
     },
     "metadata": {},
     "output_type": "display_data"
    },
    {
     "data": {
      "application/vnd.jupyter.widget-view+json": {
       "model_id": "d9390fbde2ed4402be7dd9dea7f06ad9",
       "version_major": 2,
       "version_minor": 0
      },
      "text/plain": [
       "removing artifacts:   0%|          | 0/39 [00:00<?, ?it/s]"
      ]
     },
     "metadata": {},
     "output_type": "display_data"
    }
   ],
   "source": [
    "df = fmt_table(\n",
    "    l_data=conf.files,\n",
    "    save_dir=conf.save_dir,\n",
    "    filenames=\"resampled_whole_log\",\n",
    "    rownames=res.index,\n",
    "    save_as_csv=True\n",
    ")"
   ]
  },
  {
   "cell_type": "markdown",
   "id": "23330d17-c98a-4f65-9801-dda517c9d0f0",
   "metadata": {
    "tags": []
   },
   "source": [
    "---\n",
    "## Feature extraction "
   ]
  },
  {
   "cell_type": "code",
   "execution_count": 95,
   "id": "2b009b48-60ea-4a51-bcc4-210896fbb4e1",
   "metadata": {},
   "outputs": [],
   "source": [
    "class Config(NamedTuple):\n",
    "    files: List[str] = glob.glob(\"../data/m1_10x_rpm/*\")\n",
    "    feat: List[str] = cns_subtype_markers\n",
    "    create_new_json: bool = False\n",
    "    json_path: str = \"../data/gene_list.json\"\n",
    "    data_idx: str = \"m1_10x\"\n",
    "    fig_kwarg: Dict[str, Union[str, int, float]] = fig_kwarg\n",
    "    save_dir: str =  \"../data/m1_10x_viz\"\n",
    "    save_file: bool = False"
   ]
  },
  {
   "cell_type": "code",
   "execution_count": 33,
   "id": "6e2331d4-2f40-40b3-87aa-d041c42e5941",
   "metadata": {},
   "outputs": [],
   "source": [
    "conf = Config(create_new_json = False)"
   ]
  },
  {
   "cell_type": "code",
   "execution_count": 34,
   "id": "86cb4810-5e8f-46ba-8afb-8282a6653ac9",
   "metadata": {},
   "outputs": [],
   "source": [
    "os.makedirs(conf.save_dir, exist_ok=True)"
   ]
  },
  {
   "cell_type": "code",
   "execution_count": 35,
   "id": "7c976406-2960-4224-ba19-7b1bef32a38c",
   "metadata": {},
   "outputs": [],
   "source": [
    "gene_list = open(conf.files[0]).readline().split(\",\")[1:]\n",
    "\n",
    "if not conf.create_new_json:\n",
    "    with open(conf.json_path, mode=\"r\") as f:\n",
    "        dicts = json.load(f)\n",
    "        dicts = dicts if conf.data_idx in dicts\\\n",
    "            else {conf.data_idx: gene_list, **dicts}\n",
    "    \n",
    "with open(conf.json_path, mode=\"w\") as f:\n",
    "    dicts = {conf.data_idx: gene_list} if conf.create_new_json else dicts\n",
    "    json.dump(dicts, f)"
   ]
  },
  {
   "cell_type": "code",
   "execution_count": 36,
   "id": "49d642d1-86f1-4b1f-98a4-5be6149fb654",
   "metadata": {},
   "outputs": [
    {
     "data": {
      "text/plain": [
       "[]"
      ]
     },
     "execution_count": 36,
     "metadata": {},
     "output_type": "execute_result"
    }
   ],
   "source": [
    "# utils.preprocess.find returns a list of missing genes\n",
    "\n",
    "find(gene_list, conf.feat)"
   ]
  },
  {
   "cell_type": "markdown",
   "id": "93b35e2b-5862-4e8c-b5ed-182362e97e10",
   "metadata": {},
   "source": [
    "### Format csv"
   ]
  },
  {
   "cell_type": "code",
   "execution_count": 37,
   "id": "43d4ff44-93c9-49bf-978b-bdda20e3f64d",
   "metadata": {},
   "outputs": [
    {
     "data": {
      "application/vnd.jupyter.widget-view+json": {
       "model_id": "55035aee3048437d8f8512bc0bdb3d10",
       "version_major": 2,
       "version_minor": 0
      },
      "text/plain": [
       "extraction:   0%|          | 0/39 [00:00<?, ?it/s]"
      ]
     },
     "metadata": {},
     "output_type": "display_data"
    },
    {
     "data": {
      "application/vnd.jupyter.widget-view+json": {
       "model_id": "d6391c6ec76c4b4086f5bb96f57769bc",
       "version_major": 2,
       "version_minor": 0
      },
      "text/plain": [
       "removing artifacts:   0%|          | 0/39 [00:00<?, ?it/s]"
      ]
     },
     "metadata": {},
     "output_type": "display_data"
    }
   ],
   "source": [
    "df = fmt_table(\n",
    "    conf.files, conf.save_dir,\n",
    "    \"orig_markers+_log\",\n",
    "    colnames=conf.feat,\n",
    "    save_as_csv=True\n",
    ")"
   ]
  },
  {
   "cell_type": "code",
   "execution_count": 39,
   "id": "2be06ea1-2ac4-4832-9f1f-223c18bfe804",
   "metadata": {},
   "outputs": [
    {
     "data": {
      "text/html": [
       "<div>\n",
       "<style scoped>\n",
       "    .dataframe tbody tr th:only-of-type {\n",
       "        vertical-align: middle;\n",
       "    }\n",
       "\n",
       "    .dataframe tbody tr th {\n",
       "        vertical-align: top;\n",
       "    }\n",
       "\n",
       "    .dataframe thead th {\n",
       "        text-align: right;\n",
       "    }\n",
       "</style>\n",
       "<table border=\"1\" class=\"dataframe\">\n",
       "  <thead>\n",
       "    <tr style=\"text-align: right;\">\n",
       "      <th></th>\n",
       "      <th>HES5</th>\n",
       "      <th>NFIA</th>\n",
       "      <th>LHX8</th>\n",
       "      <th>NES</th>\n",
       "      <th>GLUL</th>\n",
       "      <th>PTPRC</th>\n",
       "      <th>PROX1</th>\n",
       "      <th>SIX3</th>\n",
       "      <th>POU3F3</th>\n",
       "      <th>TBR1</th>\n",
       "      <th>...</th>\n",
       "      <th>PECAM1</th>\n",
       "      <th>RBFOX3</th>\n",
       "      <th>TYMS</th>\n",
       "      <th>AQP4</th>\n",
       "      <th>TTYH1</th>\n",
       "      <th>PCNA</th>\n",
       "      <th>PYGB</th>\n",
       "      <th>OLIG2</th>\n",
       "      <th>S100B</th>\n",
       "      <th>DCX</th>\n",
       "    </tr>\n",
       "    <tr>\n",
       "      <th>$\\log_2(RPM+1)$</th>\n",
       "      <th></th>\n",
       "      <th></th>\n",
       "      <th></th>\n",
       "      <th></th>\n",
       "      <th></th>\n",
       "      <th></th>\n",
       "      <th></th>\n",
       "      <th></th>\n",
       "      <th></th>\n",
       "      <th></th>\n",
       "      <th></th>\n",
       "      <th></th>\n",
       "      <th></th>\n",
       "      <th></th>\n",
       "      <th></th>\n",
       "      <th></th>\n",
       "      <th></th>\n",
       "      <th></th>\n",
       "      <th></th>\n",
       "      <th></th>\n",
       "      <th></th>\n",
       "    </tr>\n",
       "  </thead>\n",
       "  <tbody>\n",
       "    <tr>\n",
       "      <th>AAACCCAAGGATTTCC-LKTX_190129_01_A01</th>\n",
       "      <td>0.0</td>\n",
       "      <td>0.000000</td>\n",
       "      <td>0.0</td>\n",
       "      <td>0.0</td>\n",
       "      <td>0.000000</td>\n",
       "      <td>0.0</td>\n",
       "      <td>0.0</td>\n",
       "      <td>0.0</td>\n",
       "      <td>0.0</td>\n",
       "      <td>0.0</td>\n",
       "      <td>...</td>\n",
       "      <td>0.0</td>\n",
       "      <td>8.123371</td>\n",
       "      <td>0.0</td>\n",
       "      <td>0.0</td>\n",
       "      <td>0.000000</td>\n",
       "      <td>0.0</td>\n",
       "      <td>7.710057</td>\n",
       "      <td>0.0</td>\n",
       "      <td>0.0</td>\n",
       "      <td>0.000000</td>\n",
       "    </tr>\n",
       "    <tr>\n",
       "      <th>AAACCCAAGTATGGCG-LKTX_190129_01_A01</th>\n",
       "      <td>0.0</td>\n",
       "      <td>7.386229</td>\n",
       "      <td>0.0</td>\n",
       "      <td>0.0</td>\n",
       "      <td>0.000000</td>\n",
       "      <td>0.0</td>\n",
       "      <td>0.0</td>\n",
       "      <td>0.0</td>\n",
       "      <td>0.0</td>\n",
       "      <td>0.0</td>\n",
       "      <td>...</td>\n",
       "      <td>0.0</td>\n",
       "      <td>8.381911</td>\n",
       "      <td>0.0</td>\n",
       "      <td>0.0</td>\n",
       "      <td>6.394827</td>\n",
       "      <td>0.0</td>\n",
       "      <td>0.000000</td>\n",
       "      <td>0.0</td>\n",
       "      <td>0.0</td>\n",
       "      <td>6.394827</td>\n",
       "    </tr>\n",
       "    <tr>\n",
       "      <th>AAACCCACAAAGTGTA-LKTX_190129_01_A01</th>\n",
       "      <td>0.0</td>\n",
       "      <td>0.000000</td>\n",
       "      <td>0.0</td>\n",
       "      <td>0.0</td>\n",
       "      <td>0.000000</td>\n",
       "      <td>0.0</td>\n",
       "      <td>0.0</td>\n",
       "      <td>0.0</td>\n",
       "      <td>0.0</td>\n",
       "      <td>0.0</td>\n",
       "      <td>...</td>\n",
       "      <td>0.0</td>\n",
       "      <td>8.544552</td>\n",
       "      <td>0.0</td>\n",
       "      <td>0.0</td>\n",
       "      <td>0.000000</td>\n",
       "      <td>0.0</td>\n",
       "      <td>0.000000</td>\n",
       "      <td>0.0</td>\n",
       "      <td>0.0</td>\n",
       "      <td>5.978780</td>\n",
       "    </tr>\n",
       "    <tr>\n",
       "      <th>AAACCCACACTACTTT-LKTX_190129_01_A01</th>\n",
       "      <td>0.0</td>\n",
       "      <td>0.000000</td>\n",
       "      <td>0.0</td>\n",
       "      <td>0.0</td>\n",
       "      <td>0.000000</td>\n",
       "      <td>0.0</td>\n",
       "      <td>0.0</td>\n",
       "      <td>0.0</td>\n",
       "      <td>0.0</td>\n",
       "      <td>0.0</td>\n",
       "      <td>...</td>\n",
       "      <td>0.0</td>\n",
       "      <td>0.000000</td>\n",
       "      <td>0.0</td>\n",
       "      <td>0.0</td>\n",
       "      <td>0.000000</td>\n",
       "      <td>0.0</td>\n",
       "      <td>0.000000</td>\n",
       "      <td>0.0</td>\n",
       "      <td>0.0</td>\n",
       "      <td>0.000000</td>\n",
       "    </tr>\n",
       "    <tr>\n",
       "      <th>AAACCCACAGTGAGCA-LKTX_190129_01_A01</th>\n",
       "      <td>0.0</td>\n",
       "      <td>7.594203</td>\n",
       "      <td>0.0</td>\n",
       "      <td>0.0</td>\n",
       "      <td>8.590465</td>\n",
       "      <td>0.0</td>\n",
       "      <td>0.0</td>\n",
       "      <td>0.0</td>\n",
       "      <td>0.0</td>\n",
       "      <td>0.0</td>\n",
       "      <td>...</td>\n",
       "      <td>0.0</td>\n",
       "      <td>0.000000</td>\n",
       "      <td>0.0</td>\n",
       "      <td>0.0</td>\n",
       "      <td>7.594203</td>\n",
       "      <td>0.0</td>\n",
       "      <td>0.000000</td>\n",
       "      <td>0.0</td>\n",
       "      <td>0.0</td>\n",
       "      <td>0.000000</td>\n",
       "    </tr>\n",
       "  </tbody>\n",
       "</table>\n",
       "<p>5 rows × 90 columns</p>\n",
       "</div>"
      ],
      "text/plain": [
       "                                     HES5      NFIA  LHX8  NES      GLUL  \\\n",
       "$\\log_2(RPM+1)$                                                            \n",
       "AAACCCAAGGATTTCC-LKTX_190129_01_A01   0.0  0.000000   0.0  0.0  0.000000   \n",
       "AAACCCAAGTATGGCG-LKTX_190129_01_A01   0.0  7.386229   0.0  0.0  0.000000   \n",
       "AAACCCACAAAGTGTA-LKTX_190129_01_A01   0.0  0.000000   0.0  0.0  0.000000   \n",
       "AAACCCACACTACTTT-LKTX_190129_01_A01   0.0  0.000000   0.0  0.0  0.000000   \n",
       "AAACCCACAGTGAGCA-LKTX_190129_01_A01   0.0  7.594203   0.0  0.0  8.590465   \n",
       "\n",
       "                                     PTPRC  PROX1  SIX3  POU3F3  TBR1  ...  \\\n",
       "$\\log_2(RPM+1)$                                                        ...   \n",
       "AAACCCAAGGATTTCC-LKTX_190129_01_A01    0.0    0.0   0.0     0.0   0.0  ...   \n",
       "AAACCCAAGTATGGCG-LKTX_190129_01_A01    0.0    0.0   0.0     0.0   0.0  ...   \n",
       "AAACCCACAAAGTGTA-LKTX_190129_01_A01    0.0    0.0   0.0     0.0   0.0  ...   \n",
       "AAACCCACACTACTTT-LKTX_190129_01_A01    0.0    0.0   0.0     0.0   0.0  ...   \n",
       "AAACCCACAGTGAGCA-LKTX_190129_01_A01    0.0    0.0   0.0     0.0   0.0  ...   \n",
       "\n",
       "                                     PECAM1    RBFOX3  TYMS  AQP4     TTYH1  \\\n",
       "$\\log_2(RPM+1)$                                                               \n",
       "AAACCCAAGGATTTCC-LKTX_190129_01_A01     0.0  8.123371   0.0   0.0  0.000000   \n",
       "AAACCCAAGTATGGCG-LKTX_190129_01_A01     0.0  8.381911   0.0   0.0  6.394827   \n",
       "AAACCCACAAAGTGTA-LKTX_190129_01_A01     0.0  8.544552   0.0   0.0  0.000000   \n",
       "AAACCCACACTACTTT-LKTX_190129_01_A01     0.0  0.000000   0.0   0.0  0.000000   \n",
       "AAACCCACAGTGAGCA-LKTX_190129_01_A01     0.0  0.000000   0.0   0.0  7.594203   \n",
       "\n",
       "                                     PCNA      PYGB  OLIG2  S100B       DCX  \n",
       "$\\log_2(RPM+1)$                                                              \n",
       "AAACCCAAGGATTTCC-LKTX_190129_01_A01   0.0  7.710057    0.0    0.0  0.000000  \n",
       "AAACCCAAGTATGGCG-LKTX_190129_01_A01   0.0  0.000000    0.0    0.0  6.394827  \n",
       "AAACCCACAAAGTGTA-LKTX_190129_01_A01   0.0  0.000000    0.0    0.0  5.978780  \n",
       "AAACCCACACTACTTT-LKTX_190129_01_A01   0.0  0.000000    0.0    0.0  0.000000  \n",
       "AAACCCACAGTGAGCA-LKTX_190129_01_A01   0.0  0.000000    0.0    0.0  0.000000  \n",
       "\n",
       "[5 rows x 90 columns]"
      ]
     },
     "execution_count": 39,
     "metadata": {},
     "output_type": "execute_result"
    }
   ],
   "source": [
    "df.head()"
   ]
  },
  {
   "cell_type": "code",
   "execution_count": 40,
   "id": "f364c5fb-61e1-4e87-b332-cfccb38b0718",
   "metadata": {},
   "outputs": [],
   "source": [
    "df.to_pickle(f\"{conf.save_dir}/orig_markers+_log.pkl\")"
   ]
  },
  {
   "cell_type": "markdown",
   "id": "816990d5-fbbb-43bb-a818-b4fa45af34f2",
   "metadata": {
    "tags": []
   },
   "source": [
    "---\n",
    "## b) Undersampling\n",
    "- make every class in metadata has even sample  sizes"
   ]
  },
  {
   "cell_type": "code",
   "execution_count": 41,
   "id": "ae786d31-a5c5-4cbb-af1b-ebf49061b3b6",
   "metadata": {},
   "outputs": [],
   "source": [
    "idx = pd.read_csv(\"../data/m1_10x_meta/metadata.csv\", index_col=0)"
   ]
  },
  {
   "cell_type": "code",
   "execution_count": 42,
   "id": "8371876f-016b-4f2d-9ead-4c9d37f7506d",
   "metadata": {},
   "outputs": [],
   "source": [
    "df_mock = pd.DataFrame(\n",
    "    np.arange(len(idx)),\n",
    "    index=idx.class_label,\n",
    "    columns = [\"n_idx\"]\n",
    ")"
   ]
  },
  {
   "cell_type": "code",
   "execution_count": 43,
   "id": "ae9cdff8-46ac-4ce2-aaf1-69373044f4ed",
   "metadata": {},
   "outputs": [],
   "source": [
    "data, label_mock = RandomUnderSampler(random_state=0).fit_resample(df_mock, idx.class_label)"
   ]
  },
  {
   "cell_type": "code",
   "execution_count": 44,
   "id": "c8197124-5228-412e-94ad-e7df9ad036a2",
   "metadata": {},
   "outputs": [],
   "source": [
    "res = idx.iloc[data.n_idx]"
   ]
  },
  {
   "cell_type": "markdown",
   "id": "38759a01-3e0c-4ac3-a604-82f614af1c2d",
   "metadata": {
    "tags": []
   },
   "source": [
    "---\n",
    "## Data Spliting \n",
    "- decomposition\n",
    "- clustering\n",
    "- split into training/test data by group shuffle split"
   ]
  },
  {
   "cell_type": "markdown",
   "id": "8978087e-fbb6-469e-aab1-f2cc21c5264f",
   "metadata": {},
   "source": [
    "### generate group with PCA and KMeans\n",
    "- split into 500 clusters"
   ]
  },
  {
   "cell_type": "code",
   "execution_count": 96,
   "id": "6e470b6b-0d92-4302-9153-f7663770f192",
   "metadata": {},
   "outputs": [],
   "source": [
    "conf = Config(\n",
    "    files=glob.glob(\"../data/m1_10x_rpm/*\"),\n",
    "    save_dir=\"../data/m1_10x_ml\",\n",
    "    save_file=True\n",
    ")"
   ]
  },
  {
   "cell_type": "code",
   "execution_count": 51,
   "id": "37cd596b-625c-46ab-80e7-5f38f6cb3915",
   "metadata": {},
   "outputs": [],
   "source": [
    "os.makedirs(conf.save_dir, exist_ok=True)"
   ]
  },
  {
   "cell_type": "code",
   "execution_count": 54,
   "id": "da2023eb-cdc2-4b0f-b50d-0e806fd9e2d1",
   "metadata": {},
   "outputs": [],
   "source": [
    "df_pca = PCA(random_state=0, n_components=\"mle\").fit_transform(df.loc[res.index, :])"
   ]
  },
  {
   "cell_type": "code",
   "execution_count": 59,
   "id": "8667fb9b-8175-4b90-b5f7-3d645a9457a2",
   "metadata": {},
   "outputs": [],
   "source": [
    "k_means = KMeans(n_clusters=500, random_state=0).fit_predict(df_pca)"
   ]
  },
  {
   "cell_type": "code",
   "execution_count": 77,
   "id": "5b0405cc-31ef-4b1f-9779-b18c8d6ef9a4",
   "metadata": {},
   "outputs": [],
   "source": [
    "(train_idx, test_idx), _ = GroupShuffleSplit(\n",
    "    n_splits=2, test_size=.2, random_state=0\n",
    ").split(res, res, k_means)"
   ]
  },
  {
   "cell_type": "code",
   "execution_count": 84,
   "id": "4dfdfe8c-5ef9-432f-88e9-452c4dac62c8",
   "metadata": {},
   "outputs": [],
   "source": [
    "with open(f\"../data/m1_10x_sample_separation.json\", mode=\"w\") as f:\n",
    "    dicts = {\n",
    "        name: data.index.to_list() for name, data in zip(\n",
    "            [\"train\", \"test\"], \n",
    "            [res.iloc[train_idx, :], res.iloc[test_idx, :]]\n",
    "        )\n",
    "    }\n",
    "    json.dump(dicts, f)"
   ]
  },
  {
   "cell_type": "markdown",
   "id": "ae854bed-d5fc-4b7a-bd81-75975bfecabb",
   "metadata": {},
   "source": [
    "---\n",
    "## Visualization"
   ]
  },
  {
   "cell_type": "code",
   "execution_count": 90,
   "id": "eb24258f-2e39-4fda-a3ca-367e0f164418",
   "metadata": {},
   "outputs": [],
   "source": [
    "trainy, testy = res.iloc[train_idx, :], res.iloc[test_idx, :]"
   ]
  },
  {
   "cell_type": "code",
   "execution_count": 97,
   "id": "8916bec2-1fcd-417c-935f-82c8e1496f3a",
   "metadata": {},
   "outputs": [
    {
     "data": {
      "image/png": "[encoded data removed]",
      "text/plain": [
       "<Figure size 1500x300 with 4 Axes>"
      ]
     },
     "metadata": {},
     "output_type": "display_data"
    }
   ],
   "source": [
    "fig, ax = plt.subplots(1, 4, figsize=(15, 3))\n",
    "plt.subplots_adjust(wspace=0.3)\n",
    "\n",
    "ticklabel = res.sort_values(\"class_label\").class_label.unique()\n",
    "\n",
    "for (i, v), title in zip(\n",
    "    enumerate([idx, res, trainy, testy]),\n",
    "    [\"Original Data\", \"Resampled Data\", \"Training Data\", \"Test Data\"]\n",
    "):\n",
    "    label = idx.loc[v.index, :].sort_values(\"class_label\").class_label\n",
    "    \n",
    "    countplot(data=v, label=label, cmap=\"jet\", ax=ax[i])\n",
    "    ax[i].set_xticklabels(ticklabel, rotation=30)\n",
    "    ax[i].set_ylabel(\"Counts\" if i == 0 else \"\")\n",
    "    ax[i].set(title=f\"{title} ({len(v)} cells)\")\n",
    "\n",
    "if conf.save_file:\n",
    "    plt.savefig(f\"../out/m1_10x/01_preprocess/counts.png\", **conf.fig_kwarg)"
   ]
  },
  {
   "cell_type": "code",
   "execution_count": 98,
   "id": "a9609dbe-7c22-4058-b549-96ffad66e669",
   "metadata": {},
   "outputs": [],
   "source": [
    "if f\"{conf.save_dir}/resampled_whole_log.csv\" in glob.glob(f\"{conf.save_dir}/*\"):\n",
    "    df = pd.read_csv(f\"{conf.save_dir}/resampled_whole_log.csv\", index_col=0)"
   ]
  },
  {
   "cell_type": "code",
   "execution_count": 99,
   "id": "5778e677-70f4-454b-bb80-2afa9e74e987",
   "metadata": {},
   "outputs": [
    {
     "data": {
      "application/vnd.jupyter.widget-view+json": {
       "model_id": "922cad748ed74b538f91d45ed065453a",
       "version_major": 2,
       "version_minor": 0
      },
      "text/plain": [
       "Exporting:   0%|          | 0/2 [00:00<?, ?it/s]"
      ]
     },
     "metadata": {},
     "output_type": "display_data"
    }
   ],
   "source": [
    "for name, data in tqdm(\n",
    "    zip([\"train\", \"test\"], [trainy, testy]),\n",
    "    desc=\"Exporting\", total=2\n",
    "):\n",
    "    df.loc[data.index, :].to_csv(f\"{conf.save_dir}/{name}_whole_log.csv\", index=True)\n",
    "    df.loc[data.index, :].to_pickle(f\"{conf.save_dir}/{name}_whole_log.pkl\")"
   ]
  }
 ],
 "metadata": {
  "kernelspec": {
   "display_name": "Python 3 (ipykernel)",
   "language": "python",
   "name": "python3"
  },
  "language_info": {
   "codemirror_mode": {
    "name": "ipython",
    "version": 3
   },
   "file_extension": ".py",
   "mimetype": "text/x-python",
   "name": "python",
   "nbconvert_exporter": "python",
   "pygments_lexer": "ipython3",
   "version": "3.10.5"
  }
 },
 "nbformat": 4,
 "nbformat_minor": 5
}
