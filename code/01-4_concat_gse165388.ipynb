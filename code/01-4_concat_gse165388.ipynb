{
 "cells": [
  {
   "cell_type": "markdown",
   "id": "3416bf94-fe4a-4ee3-a0ae-9230a106770c",
   "metadata": {
    "tags": []
   },
   "source": [
    "# GSE165388\n",
    "## 01-3_concat_gse165388\n",
    "---\n",
    "## Before you start\n",
    "- run `make init` cmd in your local env\n",
    "- complete run codes in `./01-3_preprocess_gse165388`\n",
    "\n",
    "## WorkFlow\n",
    "- export datasets as `.mtx` and `.tsv` format\n",
    " \n",
    " \n",
    " **Notes)**\n",
    " \n",
    " if kernel dies during running codes, you can ommit completed sections indexed if alphabets"
   ]
  },
  {
   "cell_type": "code",
   "execution_count": 9,
   "id": "9396f2aa-3260-4a79-8a46-c25a96c369e6",
   "metadata": {},
   "outputs": [],
   "source": [
    "import glob\n",
    "import os\n",
    "import shutil\n",
    "from typing import List\n",
    "\n",
    "import numpy as np\n",
    "import pandas as pd\n",
    "import scipy.sparse as sp\n",
    "\n",
    "from tqdm.notebook import tqdm\n",
    "\n",
    "from tools.preprocess import fmt_raw, fmt_tsv, fmt_mtx\n",
    "import tools.spongy_panda as spd"
   ]
  },
  {
   "cell_type": "code",
   "execution_count": 2,
   "id": "441b7698-8441-424d-b28a-4a09fdb520ce",
   "metadata": {},
   "outputs": [],
   "source": [
    "class Config(NamedTuple):\n",
    "    files: List[str] = glob.glob(\"../data/m1_10x/matrix*\")[1:]\n",
    "    data_dir: str = \"../data/m1_10x_raw\"\n",
    "    save_dir: str = \"../out/m1_10x/01_preprocess\"\n",
    "    save_file: bool = False\n",
    "conf = Config(save_file=True)"
   ]
  },
  {
   "cell_type": "code",
   "execution_count": 3,
   "id": "76b173dc-f5db-4e50-a0bb-c17150660a3e",
   "metadata": {},
   "outputs": [],
   "source": [
    "os.makedirs(conf.data_dir, exist_ok=True)\n",
    "os.makedirs(conf.save_dir, exist_ok=True)"
   ]
  },
  {
   "cell_type": "markdown",
   "id": "978d40dc-5215-4c24-bc62-add9fa723db3",
   "metadata": {},
   "source": [
    "---\n",
    "## a) Formatting separated files\n",
    "## $Counts\\rightarrow Counts$\n",
    "- 1. make `../datam1_10x_raw` to save file/files\n",
    "- 2. export"
   ]
  },
  {
   "cell_type": "code",
   "execution_count": 4,
   "id": "c1fdc2a2-fc2b-4f04-baa4-791dbe5aecbc",
   "metadata": {},
   "outputs": [
    {
     "data": {
      "application/vnd.jupyter.widget-view+json": {
       "model_id": "59b19cb392f74d4291234529c82562cf",
       "version_major": 2,
       "version_minor": 0
      },
      "text/plain": [
       "Formatting tables:   0%|          | 0/39 [00:00<?, ?it/s]"
      ]
     },
     "metadata": {},
     "output_type": "display_data"
    }
   ],
   "source": [
    "fmt_raw(conf.files, conf.data_dir, dtype=np.int32, to_r=False)"
   ]
  },
  {
   "cell_type": "markdown",
   "id": "1faa7693-9b00-4681-8349-33f41a6f1c4f",
   "metadata": {},
   "source": [
    "- as there are no mitochondrial genes in this dataset, QC will be omitted"
   ]
  },
  {
   "cell_type": "markdown",
   "id": "5869a566-ebbe-43ee-aeaa-b7d1a4c60543",
   "metadata": {
    "tags": []
   },
   "source": [
    "---\n",
    "## Concatenate and export"
   ]
  },
  {
   "cell_type": "code",
   "execution_count": 4,
   "id": "6910eb44-300d-43b6-a837-5e5251c4904f",
   "metadata": {},
   "outputs": [],
   "source": [
    "conf = Config(\n",
    "    files=glob.glob(\"../data/m1_10x_raw/*\"),\n",
    "    save_dir=\"../data/m1_10x_raw\"\n",
    ")"
   ]
  },
  {
   "cell_type": "code",
   "execution_count": 8,
   "id": "b2d52400-cebf-422d-920c-0d3c3bbd6eff",
   "metadata": {},
   "outputs": [],
   "source": [
    "os.makedirs(f\"{conf.save_dir}\", exist_ok=True)"
   ]
  },
  {
   "cell_type": "markdown",
   "id": "5d2215b5-3c6c-48e5-8194-bed906567afd",
   "metadata": {
    "tags": []
   },
   "source": [
    "### b) Concatenate matrix.mtx"
   ]
  },
  {
   "cell_type": "code",
   "execution_count": 6,
   "id": "8dc3e685-03e6-4540-b7d7-88927ff84bdc",
   "metadata": {},
   "outputs": [
    {
     "data": {
      "application/vnd.jupyter.widget-view+json": {
       "model_id": "4b2ce690064941b89a6edceff19bbe96",
       "version_major": 2,
       "version_minor": 0
      },
      "text/plain": [
       "Concatenation:   0%|          | 0/39 [00:00<?, ?it/s]"
      ]
     },
     "metadata": {},
     "output_type": "display_data"
    },
    {
     "data": {
      "application/vnd.jupyter.widget-view+json": {
       "model_id": "153c92e276e04a68b0e4746675d4b8e5",
       "version_major": 2,
       "version_minor": 0
      },
      "text/plain": [
       "Adjusting format:   0%|          | 0/1 [00:00<?, ?it/s]"
      ]
     },
     "metadata": {},
     "output_type": "display_data"
    },
    {
     "data": {
      "application/vnd.jupyter.widget-view+json": {
       "model_id": "d842fea9e99e472d8bd7ecd17fe11c51",
       "version_major": 2,
       "version_minor": 0
      },
      "text/plain": [
       "Exporting log:   0%|          | 0/1 [00:00<?, ?it/s]"
      ]
     },
     "metadata": {},
     "output_type": "display_data"
    }
   ],
   "source": [
    "fmt_mtx(conf.files, conf.save_dir, axis=0, fmt=\"%d\", mode=\"py2r\")"
   ]
  },
  {
   "cell_type": "markdown",
   "id": "1f5e3056-3414-4760-9322-7686cefb6508",
   "metadata": {},
   "source": [
    "### c) Concatenate barcodes.tsv and features.tsv"
   ]
  },
  {
   "cell_type": "code",
   "execution_count": 7,
   "id": "ab81478b-907f-4ddf-a5ce-dd083b6b245e",
   "metadata": {},
   "outputs": [
    {
     "data": {
      "application/vnd.jupyter.widget-view+json": {
       "model_id": "4fa70b0c2d954e529438c741ebb50e5f",
       "version_major": 2,
       "version_minor": 0
      },
      "text/plain": [
       "Concatenation:   0%|          | 0/39 [00:00<?, ?it/s]"
      ]
     },
     "metadata": {},
     "output_type": "display_data"
    },
    {
     "data": {
      "application/vnd.jupyter.widget-view+json": {
       "model_id": "e1dbf26ba49a47e6b386df9fb372644b",
       "version_major": 2,
       "version_minor": 0
      },
      "text/plain": [
       "Exporting barcodes.tsv:   0%|          | 0/1 [00:00<?, ?it/s]"
      ]
     },
     "metadata": {},
     "output_type": "display_data"
    },
    {
     "data": {
      "application/vnd.jupyter.widget-view+json": {
       "model_id": "b68e8460cd184b4b9c061819d650f189",
       "version_major": 2,
       "version_minor": 0
      },
      "text/plain": [
       "Exporting features.tsv:   0%|          | 0/1 [00:00<?, ?it/s]"
      ]
     },
     "metadata": {},
     "output_type": "display_data"
    }
   ],
   "source": [
    "for filenames, concat in zip([\"barcodes\", \"features\"], [True, False]):\n",
    "    fmt_tsv(conf.files, filenames, conf.save_dir, unique=False, concat=concat)"
   ]
  },
  {
   "cell_type": "markdown",
   "id": "32717b45-963e-420b-9a23-c1a5ef7d8860",
   "metadata": {
    "tags": []
   },
   "source": [
    "### d) Remove Artifacts"
   ]
  },
  {
   "cell_type": "code",
   "execution_count": 10,
   "id": "cfdb8f93-c3ec-44ec-ba54-fd4e45dd39f3",
   "metadata": {},
   "outputs": [],
   "source": [
    "for v in conf.files:\n",
    "    shutil.rmtree(v)"
   ]
  }
 ],
 "metadata": {
  "kernelspec": {
   "display_name": "Python 3 (ipykernel)",
   "language": "python",
   "name": "python3"
  },
  "language_info": {
   "codemirror_mode": {
    "name": "ipython",
    "version": 3
   },
   "file_extension": ".py",
   "mimetype": "text/x-python",
   "name": "python",
   "nbconvert_exporter": "python",
   "pygments_lexer": "ipython3",
   "version": "3.10.5"
  }
 },
 "nbformat": 4,
 "nbformat_minor": 5
}
